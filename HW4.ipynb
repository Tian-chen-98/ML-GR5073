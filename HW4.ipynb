{
 "cells": [
  {
   "cell_type": "code",
   "execution_count": 77,
   "metadata": {},
   "outputs": [],
   "source": [
    "import pandas as pd\n",
    "from sklearn import *\n",
    "import numpy as np\n",
    "from sklearn.feature_extraction.text import CountVectorizer\n",
    "from sklearn.model_selection import GridSearchCV\n",
    "from sklearn.linear_model import LogisticRegression\n",
    "from sklearn.linear_model import LogisticRegressionCV\n",
    "from statistics import mean\n",
    "from sklearn.model_selection import cross_val_score\n",
    "from sklearn.feature_extraction.text import TfidfVectorizer\n",
    "from sklearn.metrics import confusion_matrix\n",
    "from sklearn.metrics import roc_auc_score\n",
    "from sklearn.metrics import f1_score\n",
    "from sklearn.model_selection import train_test_split\n",
    "import matplotlib.pyplot as plt"
   ]
  },
  {
   "cell_type": "markdown",
   "metadata": {},
   "source": [
    "# Part 1: Build a classification model using text data\n"
   ]
  },
  {
   "cell_type": "markdown",
   "metadata": {},
   "source": [
    "## CountVectorizer()\n"
   ]
  },
  {
   "cell_type": "code",
   "execution_count": 78,
   "metadata": {},
   "outputs": [
    {
     "name": "stdout",
     "output_type": "stream",
     "text": [
      "Downloading [==============================================>  ]\n",
      "\n",
      "Data downloaded successfully.\n",
      "\n",
      "Preparing downloaded files for use...\n",
      "\n",
      "Success! Your Quick Start materials have been downloaded. \n",
      "You are now ready to run the tutorial.\n"
     ]
    }
   ],
   "source": [
    "import aimodelshare as ai\n",
    "\n",
    "(\n",
    "    X_train,\n",
    "    X_test,\n",
    "    y_train_labels,\n",
    "    y_test_labels,\n",
    "    example_data,\n",
    "    lstm_model,\n",
    "    lstm_model2,\n",
    ") = ai.import_quickstart_data(\"clickbait\")\n"
   ]
  },
  {
   "cell_type": "code",
   "execution_count": 122,
   "metadata": {},
   "outputs": [
    {
     "data": {
      "text/plain": [
       "scipy.sparse.csr.csr_matrix"
      ]
     },
     "execution_count": 122,
     "metadata": {},
     "output_type": "execute_result"
    }
   ],
   "source": [
    "type(X_train)"
   ]
  },
  {
   "cell_type": "code",
   "execution_count": 79,
   "metadata": {},
   "outputs": [],
   "source": [
    "vec = CountVectorizer().fit(X_train)\n",
    "X_train = vec.transform(X_train)\n",
    "#vec2 = CountVectorizer().fit(X_test)\n",
    "X_test = vec.transform(X_test)\n"
   ]
  },
  {
   "cell_type": "code",
   "execution_count": 154,
   "metadata": {},
   "outputs": [
    {
     "data": {
      "text/plain": [
       "<24979x20332 sparse matrix of type '<class 'numpy.int64'>'\n",
       "\twith 220242 stored elements in Compressed Sparse Row format>"
      ]
     },
     "execution_count": 154,
     "metadata": {},
     "output_type": "execute_result"
    }
   ],
   "source": [
    "X_train"
   ]
  },
  {
   "cell_type": "code",
   "execution_count": 80,
   "metadata": {},
   "outputs": [
    {
     "data": {
      "text/plain": [
       "0.996085396897193"
      ]
     },
     "execution_count": 80,
     "metadata": {},
     "output_type": "execute_result"
    }
   ],
   "source": [
    "log = LogisticRegression(C=10, max_iter=1000, random_state=35).fit(X_train, y_train_labels)\n",
    "\n",
    "# logcv = cross_val_score(log, X_train, y_train_labels, scoring='f1', cv=10, n_jobs=-1, error_score='raise')\n",
    "logcv = cross_val_score(\n",
    "    log,\n",
    "    X_train,\n",
    "    y_train_labels,\n",
    "    scoring=\"roc_auc\",\n",
    "    cv=10,\n",
    "    n_jobs=-1,\n",
    "    error_score=\"raise\",\n",
    ")\n",
    "logcv.mean()\n"
   ]
  },
  {
   "cell_type": "code",
   "execution_count": 83,
   "metadata": {},
   "outputs": [
    {
     "name": "stdout",
     "output_type": "stream",
     "text": [
      "Training Accuracy : 0.9998398654870091\n",
      "Test set F1 score : 0.9735322772135928\n"
     ]
    }
   ],
   "source": [
    "print(\"Training Accuracy :\", log.score(X_train, y_train_labels))\n",
    "#print(\"Testing Accuracy :\", log.score(X_test, y_test_labels))\n",
    "\n",
    "# calculating the f1 score for the validation set\n",
    "y_pred = log.predict(X_test)\n",
    "print(\"Test set F1 score :\", f1_score(y_test_labels, y_pred, average=\"macro\"))\n"
   ]
  },
  {
   "cell_type": "code",
   "execution_count": 40,
   "metadata": {},
   "outputs": [],
   "source": [
    "def visualize_coefficients(coefficients, feature_names, n_top_features=25):\n",
    "    \"\"\"Visualize coefficients of a linear model.\n",
    "    Parameters\n",
    "    ----------\n",
    "    coefficients : nd-array, shape (n_features,)\n",
    "        Model coefficients.\n",
    "    feature_names : list or nd-array of strings, shape (n_features,)\n",
    "        Feature names for labeling the coefficients.\n",
    "    n_top_features : int, default=25\n",
    "        How many features to show. The function will show the largest (most\n",
    "        positive) and smallest (most negative)  n_top_features coefficients,\n",
    "        for a total of 2 * n_top_features coefficients.\n",
    "    \"\"\"\n",
    "    coefficients = coefficients.squeeze()\n",
    "    if coefficients.ndim > 1:\n",
    "        # this is not a row or column vector\n",
    "        raise ValueError(\"coeffients must be 1d array or column vector, got\"\n",
    "                         \" shape {}\".format(coefficients.shape))\n",
    "    coefficients = coefficients.ravel()\n",
    "\n",
    "    if len(coefficients) != len(feature_names):\n",
    "        raise ValueError(\"Number of coefficients {} doesn't match number of\"\n",
    "                         \"feature names {}.\".format(len(coefficients),\n",
    "                                                    len(feature_names)))\n",
    "    # get coefficients with large absolute values\n",
    "    coef = coefficients.ravel()\n",
    "    positive_coefficients = np.argsort(coef)[-n_top_features:]\n",
    "    negative_coefficients = np.argsort(coef)[:n_top_features]\n",
    "    interesting_coefficients = np.hstack([negative_coefficients,\n",
    "                                          positive_coefficients])\n",
    "    # plot them\n",
    "    plt.figure(figsize=(15, 5))\n",
    "    colors = ['#ff2020' if c < 0 else '#0000aa'\n",
    "              for c in coef[interesting_coefficients]]\n",
    "    plt.bar(np.arange(2 * n_top_features), coef[interesting_coefficients],\n",
    "            color=colors)\n",
    "    feature_names = np.array(feature_names)\n",
    "    plt.subplots_adjust(bottom=0.3)\n",
    "    plt.xticks(np.arange(1, 1 + 2 * n_top_features),\n",
    "               feature_names[interesting_coefficients], rotation=60,\n",
    "               ha=\"right\")\n",
    "    plt.ylabel(\"Coefficient magnitude\")\n",
    "    plt.xlabel(\"Feature\")"
   ]
  },
  {
   "cell_type": "code",
   "execution_count": 41,
   "metadata": {},
   "outputs": [
    {
     "data": {
      "image/png": "[encoded data removed]",
      "text/plain": [
       "<Figure size 1080x360 with 1 Axes>"
      ]
     },
     "metadata": {
      "needs_background": "light"
     },
     "output_type": "display_data"
    }
   ],
   "source": [
    "coefs = log.coef_\n",
    "feature_names = vec.get_feature_names_out()\n",
    "\n",
    "visualize_coefficients(coefs, feature_names, n_top_features=30)"
   ]
  },
  {
   "cell_type": "markdown",
   "metadata": {},
   "source": [
    "## TF-IDF\n"
   ]
  },
  {
   "cell_type": "code",
   "execution_count": 135,
   "metadata": {},
   "outputs": [
    {
     "name": "stdout",
     "output_type": "stream",
     "text": [
      "Downloading [==============================================>  ]\n",
      "\n",
      "Data downloaded successfully.\n",
      "\n",
      "Preparing downloaded files for use...\n",
      "\n",
      "Success! Your Quick Start materials have been downloaded. \n",
      "You are now ready to run the tutorial.\n"
     ]
    }
   ],
   "source": [
    "import aimodelshare as ai\n",
    "\n",
    "(\n",
    "    X_train,\n",
    "    X_test,\n",
    "    y_train_labels,\n",
    "    y_test_labels,\n",
    "    example_data,\n",
    "    lstm_model,\n",
    "    lstm_model2,\n",
    ") = ai.import_quickstart_data(\"clickbait\")\n"
   ]
  },
  {
   "cell_type": "code",
   "execution_count": 136,
   "metadata": {},
   "outputs": [],
   "source": [
    "tfidf = TfidfVectorizer(min_df=5, norm=None).fit(X_train)\n",
    "X_train = tfidf.transform(X_train)\n",
    "X_test = tfidf.transform(X_test)\n"
   ]
  },
  {
   "cell_type": "code",
   "execution_count": 137,
   "metadata": {},
   "outputs": [
    {
     "data": {
      "text/plain": [
       "<24979x5510 sparse matrix of type '<class 'numpy.float64'>'\n",
       "\twith 196141 stored elements in Compressed Sparse Row format>"
      ]
     },
     "execution_count": 137,
     "metadata": {},
     "output_type": "execute_result"
    }
   ],
   "source": [
    "X_train"
   ]
  },
  {
   "cell_type": "code",
   "execution_count": 32,
   "metadata": {},
   "outputs": [
    {
     "data": {
      "text/plain": [
       "0.9927761120826164"
      ]
     },
     "execution_count": 32,
     "metadata": {},
     "output_type": "execute_result"
    }
   ],
   "source": [
    "log = LogisticRegression(C=10, max_iter=1000, random_state=35).fit(X_train, y_train_labels)\n",
    "\n",
    "# logcv = cross_val_score(log, X_train, y_train_labels, scoring='f1', cv=10, n_jobs=-1, error_score='raise')\n",
    "logcv = cross_val_score(\n",
    "    log,\n",
    "    X_train,\n",
    "    y_train_labels,\n",
    "    scoring=\"roc_auc\",\n",
    "    cv=10,\n",
    "    n_jobs=-1,\n",
    "    error_score=\"raise\",\n",
    ")\n",
    "logcv.mean()\n"
   ]
  },
  {
   "cell_type": "code",
   "execution_count": 33,
   "metadata": {},
   "outputs": [
    {
     "name": "stdout",
     "output_type": "stream",
     "text": [
      "Training Accuracy : 0.9999599663717522\n",
      "Test set F1 score : 0.9642478669084689\n"
     ]
    }
   ],
   "source": [
    "y_pred = log.predict(X_test)\n",
    "\n",
    "print(\"Training Accuracy :\", log.score(X_train, y_train_labels))\n",
    "#print(\"Testing Accuracy :\", log.score(X_test, y_test_labels))\n",
    "\n",
    "# calculating the f1 score for the validation set\n",
    "print(\"Test set F1 score :\", f1_score(y_test_labels, y_pred, average=\"macro\"))\n"
   ]
  },
  {
   "cell_type": "code",
   "execution_count": 34,
   "metadata": {},
   "outputs": [
    {
     "data": {
      "image/png": "[encoded data removed]",
      "text/plain": [
       "<Figure size 1080x360 with 1 Axes>"
      ]
     },
     "metadata": {
      "needs_background": "light"
     },
     "output_type": "display_data"
    }
   ],
   "source": [
    "coefs = log.coef_\n",
    "feature_names = tfidf.get_feature_names_out()\n",
    "\n",
    "visualize_coefficients(coefs, feature_names, n_top_features=30)"
   ]
  },
  {
   "cell_type": "markdown",
   "metadata": {},
   "source": [
    "## Bigram\n"
   ]
  },
  {
   "cell_type": "code",
   "execution_count": 84,
   "metadata": {},
   "outputs": [
    {
     "name": "stdout",
     "output_type": "stream",
     "text": [
      "Downloading [==============================================>  ]\n",
      "\n",
      "Data downloaded successfully.\n",
      "\n",
      "Preparing downloaded files for use...\n",
      "\n",
      "Success! Your Quick Start materials have been downloaded. \n",
      "You are now ready to run the tutorial.\n"
     ]
    }
   ],
   "source": [
    "import aimodelshare as ai\n",
    "\n",
    "(\n",
    "    X_train,\n",
    "    X_test,\n",
    "    y_train_labels,\n",
    "    y_test_labels,\n",
    "    example_data,\n",
    "    lstm_model,\n",
    "    lstm_model2,\n",
    ") = ai.import_quickstart_data(\"clickbait\")\n"
   ]
  },
  {
   "cell_type": "code",
   "execution_count": 24,
   "metadata": {},
   "outputs": [],
   "source": [
    "bi = CountVectorizer(ngram_range=(2,2)).fit(X_train)\n",
    "X_train = bi.transform(X_train)\n",
    "#vec2 = CountVectorizer().fit(X_test)\n",
    "X_test = bi.transform(X_test)\n"
   ]
  },
  {
   "cell_type": "code",
   "execution_count": 25,
   "metadata": {},
   "outputs": [
    {
     "data": {
      "text/plain": [
       "0.9870803681050493"
      ]
     },
     "execution_count": 25,
     "metadata": {},
     "output_type": "execute_result"
    }
   ],
   "source": [
    "log = LogisticRegression(C=10, max_iter=1000, random_state=35).fit(X_train, y_train_labels)\n",
    "\n",
    "# logcv = cross_val_score(log, X_train, y_train_labels, scoring='f1', cv=10, n_jobs=-1, error_score='raise')\n",
    "logcv = cross_val_score(\n",
    "    log,\n",
    "    X_train,\n",
    "    y_train_labels,\n",
    "    scoring=\"roc_auc\",\n",
    "    cv=10,\n",
    "    n_jobs=-1,\n",
    "    error_score=\"raise\",\n",
    ")\n",
    "logcv.mean()\n"
   ]
  },
  {
   "cell_type": "code",
   "execution_count": 26,
   "metadata": {},
   "outputs": [
    {
     "name": "stdout",
     "output_type": "stream",
     "text": [
      "Training Accuracy : 1.0\n",
      "Test set F1 score : 0.9265121984228963\n"
     ]
    }
   ],
   "source": [
    "y_pred = log.predict(X_test)\n",
    "\n",
    "print(\"Training Accuracy :\", log.score(X_train, y_train_labels))\n",
    "#print(\"Testing Accuracy :\", log.score(X_test, y_test_labels))\n",
    "\n",
    "# calculating the f1 score for the validation set\n",
    "print(\"Test set F1 score :\", f1_score(y_test_labels, y_pred, average=\"macro\"))\n"
   ]
  },
  {
   "cell_type": "code",
   "execution_count": 29,
   "metadata": {},
   "outputs": [
    {
     "data": {
      "image/png": "[encoded data removed]",
      "text/plain": [
       "<Figure size 1080x360 with 1 Axes>"
      ]
     },
     "metadata": {
      "needs_background": "light"
     },
     "output_type": "display_data"
    }
   ],
   "source": [
    "coefs = log.coef_\n",
    "feature_names = bi.get_feature_names_out()\n",
    "\n",
    "visualize_coefficients(coefs, feature_names, n_top_features=30)"
   ]
  },
  {
   "cell_type": "markdown",
   "metadata": {},
   "source": [
    "I would choose the model with standard CountVectorizer tokenizer. The reason is that that model has the highest cross-validation score and the best test set F1 score. The model with TFIDF has a relatively low test set score, and the model with bigram tokenizer has an even lower test set score (for this model, it clearly has some overfitting problems). \n",
    "\n",
    "Also, the coefficients for standard CV tokenizer makes more sense to me than the other two. \n",
    "\n",
    "Therefore, I would go for the model with standard CountVectorizer tokenizer."
   ]
  },
  {
   "cell_type": "markdown",
   "metadata": {},
   "source": [
    "# Part 2: Build a predictive neural network using Keras\n"
   ]
  },
  {
   "cell_type": "code",
   "execution_count": 1,
   "metadata": {},
   "outputs": [
    {
     "data": {
      "text/html": [
       "<div>\n",
       "<style scoped>\n",
       "    .dataframe tbody tr th:only-of-type {\n",
       "        vertical-align: middle;\n",
       "    }\n",
       "\n",
       "    .dataframe tbody tr th {\n",
       "        vertical-align: top;\n",
       "    }\n",
       "\n",
       "    .dataframe thead th {\n",
       "        text-align: right;\n",
       "    }\n",
       "</style>\n",
       "<table border=\"1\" class=\"dataframe\">\n",
       "  <thead>\n",
       "    <tr style=\"text-align: right;\">\n",
       "      <th></th>\n",
       "      <th>Unnamed: 0</th>\n",
       "      <th>Sepal.Length</th>\n",
       "      <th>Sepal.Width</th>\n",
       "      <th>Petal.Length</th>\n",
       "      <th>Petal.Width</th>\n",
       "      <th>Species</th>\n",
       "    </tr>\n",
       "  </thead>\n",
       "  <tbody>\n",
       "    <tr>\n",
       "      <th>0</th>\n",
       "      <td>1</td>\n",
       "      <td>5.1</td>\n",
       "      <td>3.5</td>\n",
       "      <td>1.4</td>\n",
       "      <td>0.2</td>\n",
       "      <td>setosa</td>\n",
       "    </tr>\n",
       "    <tr>\n",
       "      <th>1</th>\n",
       "      <td>2</td>\n",
       "      <td>4.9</td>\n",
       "      <td>3.0</td>\n",
       "      <td>1.4</td>\n",
       "      <td>0.2</td>\n",
       "      <td>setosa</td>\n",
       "    </tr>\n",
       "    <tr>\n",
       "      <th>2</th>\n",
       "      <td>3</td>\n",
       "      <td>4.7</td>\n",
       "      <td>3.2</td>\n",
       "      <td>1.3</td>\n",
       "      <td>0.2</td>\n",
       "      <td>setosa</td>\n",
       "    </tr>\n",
       "    <tr>\n",
       "      <th>3</th>\n",
       "      <td>4</td>\n",
       "      <td>4.6</td>\n",
       "      <td>3.1</td>\n",
       "      <td>1.5</td>\n",
       "      <td>0.2</td>\n",
       "      <td>setosa</td>\n",
       "    </tr>\n",
       "    <tr>\n",
       "      <th>4</th>\n",
       "      <td>5</td>\n",
       "      <td>5.0</td>\n",
       "      <td>3.6</td>\n",
       "      <td>1.4</td>\n",
       "      <td>0.2</td>\n",
       "      <td>setosa</td>\n",
       "    </tr>\n",
       "  </tbody>\n",
       "</table>\n",
       "</div>"
      ],
      "text/plain": [
       "   Unnamed: 0  Sepal.Length  Sepal.Width  Petal.Length  Petal.Width Species\n",
       "0           1           5.1          3.5           1.4          0.2  setosa\n",
       "1           2           4.9          3.0           1.4          0.2  setosa\n",
       "2           3           4.7          3.2           1.3          0.2  setosa\n",
       "3           4           4.6          3.1           1.5          0.2  setosa\n",
       "4           5           5.0          3.6           1.4          0.2  setosa"
      ]
     },
     "execution_count": 1,
     "metadata": {},
     "output_type": "execute_result"
    }
   ],
   "source": [
    "import numpy as np\n",
    "import pandas as pd\n",
    "\n",
    "data = pd.read_csv('http://vincentarelbundock.github.io/Rdatasets/csv/datasets/iris.csv')\n",
    "data.head()"
   ]
  },
  {
   "cell_type": "code",
   "execution_count": 6,
   "metadata": {},
   "outputs": [
    {
     "name": "stdout",
     "output_type": "stream",
     "text": [
      "['setosa', 'versicolor', 'virginica']\n"
     ]
    }
   ],
   "source": [
    "print(sorted(data.Species.unique()))"
   ]
  },
  {
   "cell_type": "code",
   "execution_count": 2,
   "metadata": {},
   "outputs": [
    {
     "data": {
      "text/plain": [
       "array(['setosa', 'setosa', 'setosa', 'setosa', 'setosa', 'setosa',\n",
       "       'setosa', 'setosa', 'setosa', 'setosa', 'setosa', 'setosa',\n",
       "       'setosa', 'setosa', 'setosa', 'setosa', 'setosa', 'setosa',\n",
       "       'setosa', 'setosa', 'setosa', 'setosa', 'setosa', 'setosa',\n",
       "       'setosa', 'setosa', 'setosa', 'setosa', 'setosa', 'setosa',\n",
       "       'setosa', 'setosa', 'setosa', 'setosa', 'setosa', 'setosa',\n",
       "       'setosa', 'setosa', 'setosa', 'setosa', 'setosa', 'setosa',\n",
       "       'setosa', 'setosa', 'setosa', 'setosa', 'setosa', 'setosa',\n",
       "       'setosa', 'setosa', 'versicolor', 'versicolor', 'versicolor',\n",
       "       'versicolor', 'versicolor', 'versicolor', 'versicolor',\n",
       "       'versicolor', 'versicolor', 'versicolor', 'versicolor',\n",
       "       'versicolor', 'versicolor', 'versicolor', 'versicolor',\n",
       "       'versicolor', 'versicolor', 'versicolor', 'versicolor',\n",
       "       'versicolor', 'versicolor', 'versicolor', 'versicolor',\n",
       "       'versicolor', 'versicolor', 'versicolor', 'versicolor',\n",
       "       'versicolor', 'versicolor', 'versicolor', 'versicolor',\n",
       "       'versicolor', 'versicolor', 'versicolor', 'versicolor',\n",
       "       'versicolor', 'versicolor', 'versicolor', 'versicolor',\n",
       "       'versicolor', 'versicolor', 'versicolor', 'versicolor',\n",
       "       'versicolor', 'versicolor', 'versicolor', 'versicolor',\n",
       "       'versicolor', 'versicolor', 'versicolor', 'virginica', 'virginica',\n",
       "       'virginica', 'virginica', 'virginica', 'virginica', 'virginica',\n",
       "       'virginica', 'virginica', 'virginica', 'virginica', 'virginica',\n",
       "       'virginica', 'virginica', 'virginica', 'virginica', 'virginica',\n",
       "       'virginica', 'virginica', 'virginica', 'virginica', 'virginica',\n",
       "       'virginica', 'virginica', 'virginica', 'virginica', 'virginica',\n",
       "       'virginica', 'virginica', 'virginica', 'virginica', 'virginica',\n",
       "       'virginica', 'virginica', 'virginica', 'virginica', 'virginica',\n",
       "       'virginica', 'virginica', 'virginica', 'virginica', 'virginica',\n",
       "       'virginica', 'virginica', 'virginica', 'virginica', 'virginica',\n",
       "       'virginica', 'virginica', 'virginica'], dtype=object)"
      ]
     },
     "execution_count": 2,
     "metadata": {},
     "output_type": "execute_result"
    }
   ],
   "source": [
    "from tensorflow import keras\n",
    "\n",
    "data = data.iloc[:,1:]\n",
    "X = data.iloc[:, data.columns != 'Species']\n",
    "X = np.array(X)\n",
    "y = data['Species']\n",
    "y = np.array(y)\n",
    "y"
   ]
  },
  {
   "cell_type": "code",
   "execution_count": 3,
   "metadata": {},
   "outputs": [
    {
     "data": {
      "text/plain": [
       "array([[1., 0., 0.],\n",
       "       [1., 0., 0.],\n",
       "       [1., 0., 0.],\n",
       "       [1., 0., 0.],\n",
       "       [1., 0., 0.],\n",
       "       [1., 0., 0.],\n",
       "       [1., 0., 0.],\n",
       "       [1., 0., 0.],\n",
       "       [1., 0., 0.],\n",
       "       [1., 0., 0.],\n",
       "       [1., 0., 0.],\n",
       "       [1., 0., 0.],\n",
       "       [1., 0., 0.],\n",
       "       [1., 0., 0.],\n",
       "       [1., 0., 0.],\n",
       "       [1., 0., 0.],\n",
       "       [1., 0., 0.],\n",
       "       [1., 0., 0.],\n",
       "       [1., 0., 0.],\n",
       "       [1., 0., 0.],\n",
       "       [1., 0., 0.],\n",
       "       [1., 0., 0.],\n",
       "       [1., 0., 0.],\n",
       "       [1., 0., 0.],\n",
       "       [1., 0., 0.],\n",
       "       [1., 0., 0.],\n",
       "       [1., 0., 0.],\n",
       "       [1., 0., 0.],\n",
       "       [1., 0., 0.],\n",
       "       [1., 0., 0.],\n",
       "       [1., 0., 0.],\n",
       "       [1., 0., 0.],\n",
       "       [1., 0., 0.],\n",
       "       [1., 0., 0.],\n",
       "       [1., 0., 0.],\n",
       "       [1., 0., 0.],\n",
       "       [1., 0., 0.],\n",
       "       [1., 0., 0.],\n",
       "       [1., 0., 0.],\n",
       "       [1., 0., 0.],\n",
       "       [1., 0., 0.],\n",
       "       [1., 0., 0.],\n",
       "       [1., 0., 0.],\n",
       "       [1., 0., 0.],\n",
       "       [1., 0., 0.],\n",
       "       [1., 0., 0.],\n",
       "       [1., 0., 0.],\n",
       "       [1., 0., 0.],\n",
       "       [1., 0., 0.],\n",
       "       [1., 0., 0.],\n",
       "       [0., 1., 0.],\n",
       "       [0., 1., 0.],\n",
       "       [0., 1., 0.],\n",
       "       [0., 1., 0.],\n",
       "       [0., 1., 0.],\n",
       "       [0., 1., 0.],\n",
       "       [0., 1., 0.],\n",
       "       [0., 1., 0.],\n",
       "       [0., 1., 0.],\n",
       "       [0., 1., 0.],\n",
       "       [0., 1., 0.],\n",
       "       [0., 1., 0.],\n",
       "       [0., 1., 0.],\n",
       "       [0., 1., 0.],\n",
       "       [0., 1., 0.],\n",
       "       [0., 1., 0.],\n",
       "       [0., 1., 0.],\n",
       "       [0., 1., 0.],\n",
       "       [0., 1., 0.],\n",
       "       [0., 1., 0.],\n",
       "       [0., 1., 0.],\n",
       "       [0., 1., 0.],\n",
       "       [0., 1., 0.],\n",
       "       [0., 1., 0.],\n",
       "       [0., 1., 0.],\n",
       "       [0., 1., 0.],\n",
       "       [0., 1., 0.],\n",
       "       [0., 1., 0.],\n",
       "       [0., 1., 0.],\n",
       "       [0., 1., 0.],\n",
       "       [0., 1., 0.],\n",
       "       [0., 1., 0.],\n",
       "       [0., 1., 0.],\n",
       "       [0., 1., 0.],\n",
       "       [0., 1., 0.],\n",
       "       [0., 1., 0.],\n",
       "       [0., 1., 0.],\n",
       "       [0., 1., 0.],\n",
       "       [0., 1., 0.],\n",
       "       [0., 1., 0.],\n",
       "       [0., 1., 0.],\n",
       "       [0., 1., 0.],\n",
       "       [0., 1., 0.],\n",
       "       [0., 1., 0.],\n",
       "       [0., 1., 0.],\n",
       "       [0., 1., 0.],\n",
       "       [0., 1., 0.],\n",
       "       [0., 1., 0.],\n",
       "       [0., 1., 0.],\n",
       "       [0., 1., 0.],\n",
       "       [0., 0., 1.],\n",
       "       [0., 0., 1.],\n",
       "       [0., 0., 1.],\n",
       "       [0., 0., 1.],\n",
       "       [0., 0., 1.],\n",
       "       [0., 0., 1.],\n",
       "       [0., 0., 1.],\n",
       "       [0., 0., 1.],\n",
       "       [0., 0., 1.],\n",
       "       [0., 0., 1.],\n",
       "       [0., 0., 1.],\n",
       "       [0., 0., 1.],\n",
       "       [0., 0., 1.],\n",
       "       [0., 0., 1.],\n",
       "       [0., 0., 1.],\n",
       "       [0., 0., 1.],\n",
       "       [0., 0., 1.],\n",
       "       [0., 0., 1.],\n",
       "       [0., 0., 1.],\n",
       "       [0., 0., 1.],\n",
       "       [0., 0., 1.],\n",
       "       [0., 0., 1.],\n",
       "       [0., 0., 1.],\n",
       "       [0., 0., 1.],\n",
       "       [0., 0., 1.],\n",
       "       [0., 0., 1.],\n",
       "       [0., 0., 1.],\n",
       "       [0., 0., 1.],\n",
       "       [0., 0., 1.],\n",
       "       [0., 0., 1.],\n",
       "       [0., 0., 1.],\n",
       "       [0., 0., 1.],\n",
       "       [0., 0., 1.],\n",
       "       [0., 0., 1.],\n",
       "       [0., 0., 1.],\n",
       "       [0., 0., 1.],\n",
       "       [0., 0., 1.],\n",
       "       [0., 0., 1.],\n",
       "       [0., 0., 1.],\n",
       "       [0., 0., 1.],\n",
       "       [0., 0., 1.],\n",
       "       [0., 0., 1.],\n",
       "       [0., 0., 1.],\n",
       "       [0., 0., 1.],\n",
       "       [0., 0., 1.],\n",
       "       [0., 0., 1.],\n",
       "       [0., 0., 1.],\n",
       "       [0., 0., 1.],\n",
       "       [0., 0., 1.],\n",
       "       [0., 0., 1.]])"
      ]
     },
     "execution_count": 3,
     "metadata": {},
     "output_type": "execute_result"
    }
   ],
   "source": [
    "from sklearn.model_selection import train_test_split\n",
    "from sklearn.preprocessing import OneHotEncoder, StandardScaler\n",
    "\n",
    "y = OneHotEncoder().fit_transform(y[:, np.newaxis]).toarray()\n",
    "scaler = StandardScaler()\n",
    "X = scaler.fit_transform(X)\n",
    "\n",
    "X_train, X_test, y_train, y_test = train_test_split(\n",
    "    X, y, test_size=0.25, random_state=35)\n",
    "\n",
    "y"
   ]
  },
  {
   "cell_type": "code",
   "execution_count": 4,
   "metadata": {},
   "outputs": [
    {
     "name": "stdout",
     "output_type": "stream",
     "text": [
      "Model: \"sequential\"\n",
      "_________________________________________________________________\n",
      " Layer (type)                Output Shape              Param #   \n",
      "=================================================================\n",
      " dense (Dense)               (None, 8)                 40        \n",
      "                                                                 \n",
      " activation (Activation)     (None, 8)                 0         \n",
      "                                                                 \n",
      " dense_1 (Dense)             (None, 8)                 72        \n",
      "                                                                 \n",
      " activation_1 (Activation)   (None, 8)                 0         \n",
      "                                                                 \n",
      " dense_2 (Dense)             (None, 3)                 27        \n",
      "                                                                 \n",
      " activation_2 (Activation)   (None, 3)                 0         \n",
      "                                                                 \n",
      "=================================================================\n",
      "Total params: 139\n",
      "Trainable params: 139\n",
      "Non-trainable params: 0\n",
      "_________________________________________________________________\n"
     ]
    }
   ],
   "source": [
    "from tensorflow.keras.models import Sequential\n",
    "from tensorflow.keras.layers import Dense, Activation\n",
    "from tensorflow.random import set_seed\n",
    "\n",
    "np.random.seed(35)\n",
    "set_seed(35)\n",
    "\n",
    "model = Sequential([\n",
    "    Dense(8, input_shape=(4,)),\n",
    "    Activation('relu'),\n",
    "    Dense(8),\n",
    "    Activation('relu'),\n",
    "    Dense(3),\n",
    "    Activation('softmax'),\n",
    "])\n",
    "\n",
    "\n",
    "model.summary()\n"
   ]
  },
  {
   "cell_type": "code",
   "execution_count": 5,
   "metadata": {},
   "outputs": [],
   "source": [
    "model.compile(optimizer='sgd',\n",
    "              loss='categorical_crossentropy',\n",
    "              metrics=['accuracy'])"
   ]
  },
  {
   "cell_type": "code",
   "execution_count": 6,
   "metadata": {},
   "outputs": [
    {
     "name": "stdout",
     "output_type": "stream",
     "text": [
      "Epoch 1/100\n",
      "7/7 [==============================] - 0s 833us/step - loss: 1.1145 - accuracy: 0.0804\n",
      "Epoch 2/100\n",
      "7/7 [==============================] - 0s 833us/step - loss: 1.0923 - accuracy: 0.1518\n",
      "Epoch 3/100\n",
      "7/7 [==============================] - 0s 667us/step - loss: 1.0729 - accuracy: 0.3036\n",
      "Epoch 4/100\n",
      "7/7 [==============================] - 0s 833us/step - loss: 1.0563 - accuracy: 0.4196\n",
      "Epoch 5/100\n",
      "7/7 [==============================] - 0s 667us/step - loss: 1.0409 - accuracy: 0.4554\n",
      "Epoch 6/100\n",
      "7/7 [==============================] - 0s 834us/step - loss: 1.0271 - accuracy: 0.5000\n",
      "Epoch 7/100\n",
      "7/7 [==============================] - 0s 666us/step - loss: 1.0138 - accuracy: 0.5714\n",
      "Epoch 8/100\n",
      "7/7 [==============================] - 0s 667us/step - loss: 0.9995 - accuracy: 0.5982\n",
      "Epoch 9/100\n",
      "7/7 [==============================] - 0s 667us/step - loss: 0.9859 - accuracy: 0.6339\n",
      "Epoch 10/100\n",
      "7/7 [==============================] - 0s 667us/step - loss: 0.9715 - accuracy: 0.6607\n",
      "Epoch 11/100\n",
      "7/7 [==============================] - 0s 832us/step - loss: 0.9571 - accuracy: 0.6786\n",
      "Epoch 12/100\n",
      "7/7 [==============================] - 0s 833us/step - loss: 0.9430 - accuracy: 0.6875\n",
      "Epoch 13/100\n",
      "7/7 [==============================] - 0s 834us/step - loss: 0.9280 - accuracy: 0.7054\n",
      "Epoch 14/100\n",
      "7/7 [==============================] - 0s 833us/step - loss: 0.9131 - accuracy: 0.7143\n",
      "Epoch 15/100\n",
      "7/7 [==============================] - 0s 833us/step - loss: 0.8971 - accuracy: 0.7679\n",
      "Epoch 16/100\n",
      "7/7 [==============================] - 0s 666us/step - loss: 0.8801 - accuracy: 0.7946\n",
      "Epoch 17/100\n",
      "7/7 [==============================] - 0s 666us/step - loss: 0.8623 - accuracy: 0.8304\n",
      "Epoch 18/100\n",
      "7/7 [==============================] - 0s 834us/step - loss: 0.8444 - accuracy: 0.8304\n",
      "Epoch 19/100\n",
      "7/7 [==============================] - 0s 666us/step - loss: 0.8254 - accuracy: 0.8482\n",
      "Epoch 20/100\n",
      "7/7 [==============================] - 0s 667us/step - loss: 0.8067 - accuracy: 0.8750\n",
      "Epoch 21/100\n",
      "7/7 [==============================] - 0s 667us/step - loss: 0.7880 - accuracy: 0.9018\n",
      "Epoch 22/100\n",
      "7/7 [==============================] - 0s 667us/step - loss: 0.7680 - accuracy: 0.8929\n",
      "Epoch 23/100\n",
      "7/7 [==============================] - 0s 833us/step - loss: 0.7485 - accuracy: 0.9018\n",
      "Epoch 24/100\n",
      "7/7 [==============================] - 0s 666us/step - loss: 0.7287 - accuracy: 0.9018\n",
      "Epoch 25/100\n",
      "7/7 [==============================] - 0s 667us/step - loss: 0.7084 - accuracy: 0.9018\n",
      "Epoch 26/100\n",
      "7/7 [==============================] - 0s 667us/step - loss: 0.6886 - accuracy: 0.9018\n",
      "Epoch 27/100\n",
      "7/7 [==============================] - 0s 666us/step - loss: 0.6690 - accuracy: 0.9107\n",
      "Epoch 28/100\n",
      "7/7 [==============================] - 0s 833us/step - loss: 0.6503 - accuracy: 0.9107\n",
      "Epoch 29/100\n",
      "7/7 [==============================] - 0s 666us/step - loss: 0.6318 - accuracy: 0.9107\n",
      "Epoch 30/100\n",
      "7/7 [==============================] - 0s 666us/step - loss: 0.6139 - accuracy: 0.9107\n",
      "Epoch 31/100\n",
      "7/7 [==============================] - 0s 667us/step - loss: 0.5967 - accuracy: 0.9107\n",
      "Epoch 32/100\n",
      "7/7 [==============================] - 0s 833us/step - loss: 0.5798 - accuracy: 0.9018\n",
      "Epoch 33/100\n",
      "7/7 [==============================] - 0s 833us/step - loss: 0.5632 - accuracy: 0.9018\n",
      "Epoch 34/100\n",
      "7/7 [==============================] - 0s 1ms/step - loss: 0.5478 - accuracy: 0.9018\n",
      "Epoch 35/100\n",
      "7/7 [==============================] - 0s 833us/step - loss: 0.5328 - accuracy: 0.9018\n",
      "Epoch 36/100\n",
      "7/7 [==============================] - 0s 666us/step - loss: 0.5182 - accuracy: 0.9018\n",
      "Epoch 37/100\n",
      "7/7 [==============================] - 0s 833us/step - loss: 0.5040 - accuracy: 0.9018\n",
      "Epoch 38/100\n",
      "7/7 [==============================] - 0s 666us/step - loss: 0.4908 - accuracy: 0.9107\n",
      "Epoch 39/100\n",
      "7/7 [==============================] - 0s 667us/step - loss: 0.4779 - accuracy: 0.9018\n",
      "Epoch 40/100\n",
      "7/7 [==============================] - 0s 666us/step - loss: 0.4659 - accuracy: 0.9018\n",
      "Epoch 41/100\n",
      "7/7 [==============================] - 0s 667us/step - loss: 0.4545 - accuracy: 0.9107\n",
      "Epoch 42/100\n",
      "7/7 [==============================] - 0s 666us/step - loss: 0.4433 - accuracy: 0.9107\n",
      "Epoch 43/100\n",
      "7/7 [==============================] - 0s 666us/step - loss: 0.4330 - accuracy: 0.9107\n",
      "Epoch 44/100\n",
      "7/7 [==============================] - 0s 834us/step - loss: 0.4231 - accuracy: 0.9107\n",
      "Epoch 45/100\n",
      "7/7 [==============================] - 0s 666us/step - loss: 0.4139 - accuracy: 0.9018\n",
      "Epoch 46/100\n",
      "7/7 [==============================] - 0s 666us/step - loss: 0.4050 - accuracy: 0.9107\n",
      "Epoch 47/100\n",
      "7/7 [==============================] - 0s 666us/step - loss: 0.3964 - accuracy: 0.9107\n",
      "Epoch 48/100\n",
      "7/7 [==============================] - 0s 500us/step - loss: 0.3881 - accuracy: 0.9018\n",
      "Epoch 49/100\n",
      "7/7 [==============================] - 0s 833us/step - loss: 0.3799 - accuracy: 0.9196\n",
      "Epoch 50/100\n",
      "7/7 [==============================] - 0s 667us/step - loss: 0.3727 - accuracy: 0.9107\n",
      "Epoch 51/100\n",
      "7/7 [==============================] - 0s 667us/step - loss: 0.3657 - accuracy: 0.9196\n",
      "Epoch 52/100\n",
      "7/7 [==============================] - 0s 833us/step - loss: 0.3588 - accuracy: 0.9196\n",
      "Epoch 53/100\n",
      "7/7 [==============================] - 0s 667us/step - loss: 0.3521 - accuracy: 0.9196\n",
      "Epoch 54/100\n",
      "7/7 [==============================] - 0s 652us/step - loss: 0.3458 - accuracy: 0.9196\n",
      "Epoch 55/100\n",
      "7/7 [==============================] - 0s 667us/step - loss: 0.3399 - accuracy: 0.9107\n",
      "Epoch 56/100\n",
      "7/7 [==============================] - 0s 667us/step - loss: 0.3339 - accuracy: 0.9107\n",
      "Epoch 57/100\n",
      "7/7 [==============================] - 0s 667us/step - loss: 0.3285 - accuracy: 0.9107\n",
      "Epoch 58/100\n",
      "7/7 [==============================] - 0s 667us/step - loss: 0.3234 - accuracy: 0.9107\n",
      "Epoch 59/100\n",
      "7/7 [==============================] - 0s 667us/step - loss: 0.3176 - accuracy: 0.9107\n",
      "Epoch 60/100\n",
      "7/7 [==============================] - 0s 833us/step - loss: 0.3129 - accuracy: 0.9107\n",
      "Epoch 61/100\n",
      "7/7 [==============================] - 0s 667us/step - loss: 0.3077 - accuracy: 0.9107\n",
      "Epoch 62/100\n",
      "7/7 [==============================] - 0s 667us/step - loss: 0.3033 - accuracy: 0.9107\n",
      "Epoch 63/100\n",
      "7/7 [==============================] - 0s 666us/step - loss: 0.2986 - accuracy: 0.9107\n",
      "Epoch 64/100\n",
      "7/7 [==============================] - 0s 500us/step - loss: 0.2940 - accuracy: 0.9107\n",
      "Epoch 65/100\n",
      "7/7 [==============================] - 0s 667us/step - loss: 0.2898 - accuracy: 0.9107\n",
      "Epoch 66/100\n",
      "7/7 [==============================] - 0s 833us/step - loss: 0.2859 - accuracy: 0.9107\n",
      "Epoch 67/100\n",
      "7/7 [==============================] - 0s 666us/step - loss: 0.2812 - accuracy: 0.9107\n",
      "Epoch 68/100\n",
      "7/7 [==============================] - 0s 833us/step - loss: 0.2777 - accuracy: 0.9107\n",
      "Epoch 69/100\n",
      "7/7 [==============================] - 0s 500us/step - loss: 0.2732 - accuracy: 0.9107\n",
      "Epoch 70/100\n",
      "7/7 [==============================] - 0s 666us/step - loss: 0.2694 - accuracy: 0.9196\n",
      "Epoch 71/100\n",
      "7/7 [==============================] - 0s 499us/step - loss: 0.2661 - accuracy: 0.9196\n",
      "Epoch 72/100\n",
      "7/7 [==============================] - 0s 500us/step - loss: 0.2619 - accuracy: 0.9107\n",
      "Epoch 73/100\n",
      "7/7 [==============================] - 0s 667us/step - loss: 0.2584 - accuracy: 0.9286\n",
      "Epoch 74/100\n",
      "7/7 [==============================] - 0s 667us/step - loss: 0.2546 - accuracy: 0.9286\n",
      "Epoch 75/100\n",
      "7/7 [==============================] - 0s 667us/step - loss: 0.2513 - accuracy: 0.9286\n",
      "Epoch 76/100\n",
      "7/7 [==============================] - 0s 666us/step - loss: 0.2490 - accuracy: 0.9196\n",
      "Epoch 77/100\n",
      "7/7 [==============================] - 0s 667us/step - loss: 0.2447 - accuracy: 0.9286\n",
      "Epoch 78/100\n",
      "7/7 [==============================] - 0s 500us/step - loss: 0.2414 - accuracy: 0.9375\n",
      "Epoch 79/100\n",
      "7/7 [==============================] - 0s 666us/step - loss: 0.2385 - accuracy: 0.9375\n",
      "Epoch 80/100\n",
      "7/7 [==============================] - 0s 666us/step - loss: 0.2352 - accuracy: 0.9375\n",
      "Epoch 81/100\n",
      "7/7 [==============================] - 0s 666us/step - loss: 0.2324 - accuracy: 0.9286\n",
      "Epoch 82/100\n",
      "7/7 [==============================] - 0s 500us/step - loss: 0.2292 - accuracy: 0.9375\n",
      "Epoch 83/100\n",
      "7/7 [==============================] - 0s 1ms/step - loss: 0.2264 - accuracy: 0.9375\n",
      "Epoch 84/100\n",
      "7/7 [==============================] - 0s 666us/step - loss: 0.2234 - accuracy: 0.9286\n",
      "Epoch 85/100\n",
      "7/7 [==============================] - 0s 665us/step - loss: 0.2207 - accuracy: 0.9286\n",
      "Epoch 86/100\n",
      "7/7 [==============================] - 0s 500us/step - loss: 0.2181 - accuracy: 0.9286\n",
      "Epoch 87/100\n",
      "7/7 [==============================] - 0s 667us/step - loss: 0.2154 - accuracy: 0.9286\n",
      "Epoch 88/100\n",
      "7/7 [==============================] - 0s 667us/step - loss: 0.2129 - accuracy: 0.9286\n",
      "Epoch 89/100\n",
      "7/7 [==============================] - 0s 667us/step - loss: 0.2102 - accuracy: 0.9286\n",
      "Epoch 90/100\n",
      "7/7 [==============================] - 0s 666us/step - loss: 0.2082 - accuracy: 0.9286\n",
      "Epoch 91/100\n",
      "7/7 [==============================] - 0s 666us/step - loss: 0.2062 - accuracy: 0.9375\n",
      "Epoch 92/100\n",
      "7/7 [==============================] - 0s 666us/step - loss: 0.2035 - accuracy: 0.9375\n",
      "Epoch 93/100\n",
      "7/7 [==============================] - 0s 666us/step - loss: 0.2015 - accuracy: 0.9286\n",
      "Epoch 94/100\n",
      "7/7 [==============================] - 0s 666us/step - loss: 0.1985 - accuracy: 0.9286\n",
      "Epoch 95/100\n",
      "7/7 [==============================] - 0s 666us/step - loss: 0.1961 - accuracy: 0.9286\n",
      "Epoch 96/100\n",
      "7/7 [==============================] - 0s 667us/step - loss: 0.1938 - accuracy: 0.9286\n",
      "Epoch 97/100\n",
      "7/7 [==============================] - 0s 833us/step - loss: 0.1920 - accuracy: 0.9286\n",
      "Epoch 98/100\n",
      "7/7 [==============================] - 0s 667us/step - loss: 0.1899 - accuracy: 0.9286\n",
      "Epoch 99/100\n",
      "7/7 [==============================] - 0s 666us/step - loss: 0.1877 - accuracy: 0.9286\n",
      "Epoch 100/100\n",
      "7/7 [==============================] - 0s 666us/step - loss: 0.1855 - accuracy: 0.9375\n"
     ]
    },
    {
     "data": {
      "text/plain": [
       "<keras.callbacks.History at 0x2e6a1ac4670>"
      ]
     },
     "execution_count": 6,
     "metadata": {},
     "output_type": "execute_result"
    }
   ],
   "source": [
    "model.fit(X_train, y_train, epochs=100, batch_size=16)"
   ]
  },
  {
   "cell_type": "code",
   "execution_count": 22,
   "metadata": {},
   "outputs": [],
   "source": [
    "y_preds = model.predict(X_test)"
   ]
  },
  {
   "cell_type": "code",
   "execution_count": 9,
   "metadata": {},
   "outputs": [
    {
     "name": "stdout",
     "output_type": "stream",
     "text": [
      "Evaluate on test data\n",
      "3/3 [==============================] - 0s 1ms/step - loss: 0.2450 - accuracy: 0.9211\n",
      "test loss, test acc: [0.24500028789043427, 0.9210526347160339]\n"
     ]
    }
   ],
   "source": [
    "print(\"Evaluate on test data\")\n",
    "results = model.evaluate(X_test, y_test, batch_size=16)\n",
    "print(\"test loss, test acc:\", results)"
   ]
  },
  {
   "cell_type": "code",
   "execution_count": 9,
   "metadata": {},
   "outputs": [],
   "source": [
    "from tensorflow.keras.wrappers.scikit_learn import KerasClassifier\n",
    "import numpy\n",
    "import pandas as pd"
   ]
  },
  {
   "cell_type": "code",
   "execution_count": 24,
   "metadata": {},
   "outputs": [
    {
     "name": "stderr",
     "output_type": "stream",
     "text": [
      "C:\\Users\\ch199\\AppData\\Local\\Temp/ipykernel_23904/93594876.py:19: DeprecationWarning: KerasClassifier is deprecated, use Sci-Keras (https://github.com/adriangb/scikeras) instead.\n",
      "  model = KerasClassifier(build_fn=create_model, epochs=100, verbose=0)\n"
     ]
    },
    {
     "name": "stdout",
     "output_type": "stream",
     "text": [
      "Best: 0.911462 using {'units': 64}\n"
     ]
    }
   ],
   "source": [
    "from sklearn.model_selection import GridSearchCV\n",
    "from tensorflow.keras.wrappers.scikit_learn import KerasClassifier\n",
    "\n",
    "seed = 35\n",
    "np.random.seed(seed)\n",
    "set_seed(35)\n",
    "\n",
    "def create_model(units):\n",
    "\tmodel = Sequential()\n",
    "\tmodel.add(Dense(units, input_dim=4, activation='relu'))\n",
    "\tmodel.add(Dense(units, activation='relu'))\n",
    "\tmodel.add(Dense(3, activation='softmax'))\n",
    "\tmodel.compile(loss='categorical_crossentropy', optimizer='sgd', metrics=['accuracy'])\n",
    "\treturn model\n",
    "\n",
    "learn_rate = [0.001, 0.01, 0.1, 1]\n",
    "units = [8,16,32,64]\n",
    "\n",
    "model = KerasClassifier(build_fn=create_model, epochs=100, verbose=0)\n",
    "\n",
    "param_grid = dict(units=units)\n",
    "\n",
    "grid = GridSearchCV(estimator=model, param_grid=param_grid)\n",
    "grid_result = grid.fit(X_train, y_train)\n",
    "\n",
    "# summarize results\n",
    "print(\"Best: %f using %s\" % (grid_result.best_score_, grid_result.best_params_))"
   ]
  },
  {
   "cell_type": "code",
   "execution_count": 25,
   "metadata": {},
   "outputs": [
    {
     "name": "stdout",
     "output_type": "stream",
     "text": [
      "Model: \"sequential_86\"\n",
      "_________________________________________________________________\n",
      " Layer (type)                Output Shape              Param #   \n",
      "=================================================================\n",
      " dense_258 (Dense)           (None, 64)                320       \n",
      "                                                                 \n",
      " activation_6 (Activation)   (None, 64)                0         \n",
      "                                                                 \n",
      " dense_259 (Dense)           (None, 64)                4160      \n",
      "                                                                 \n",
      " activation_7 (Activation)   (None, 64)                0         \n",
      "                                                                 \n",
      " dense_260 (Dense)           (None, 3)                 195       \n",
      "                                                                 \n",
      " activation_8 (Activation)   (None, 3)                 0         \n",
      "                                                                 \n",
      "=================================================================\n",
      "Total params: 4,675\n",
      "Trainable params: 4,675\n",
      "Non-trainable params: 0\n",
      "_________________________________________________________________\n"
     ]
    }
   ],
   "source": [
    "from tensorflow.keras.models import Sequential\n",
    "from tensorflow.keras.layers import Dense, Activation\n",
    "\n",
    "seed = 35\n",
    "np.random.seed(seed)\n",
    "set_seed(35)\n",
    "\n",
    "model2 = Sequential([\n",
    "    Dense(64, input_shape=(4,)),\n",
    "    Activation('relu'),\n",
    "    Dense(64),\n",
    "    Activation('relu'),\n",
    "    Dense(3),\n",
    "    Activation('softmax'),\n",
    "])\n",
    "\n",
    "\n",
    "model2.summary()\n",
    "model2.compile(optimizer='sgd',\n",
    "              loss='categorical_crossentropy',\n",
    "              metrics=['accuracy'])"
   ]
  },
  {
   "cell_type": "code",
   "execution_count": 26,
   "metadata": {},
   "outputs": [
    {
     "name": "stdout",
     "output_type": "stream",
     "text": [
      "Epoch 1/100\n",
      "7/7 [==============================] - 0s 666us/step - loss: 1.1688 - accuracy: 0.1429\n",
      "Epoch 2/100\n",
      "7/7 [==============================] - 0s 667us/step - loss: 1.1093 - accuracy: 0.1964\n",
      "Epoch 3/100\n",
      "7/7 [==============================] - 0s 667us/step - loss: 1.0567 - accuracy: 0.5089\n",
      "Epoch 4/100\n",
      "7/7 [==============================] - 0s 500us/step - loss: 1.0091 - accuracy: 0.6964\n",
      "Epoch 5/100\n",
      "7/7 [==============================] - 0s 833us/step - loss: 0.9651 - accuracy: 0.7054\n",
      "Epoch 6/100\n",
      "7/7 [==============================] - 0s 667us/step - loss: 0.9248 - accuracy: 0.7232\n",
      "Epoch 7/100\n",
      "7/7 [==============================] - 0s 667us/step - loss: 0.8870 - accuracy: 0.7411\n",
      "Epoch 8/100\n",
      "7/7 [==============================] - 0s 833us/step - loss: 0.8500 - accuracy: 0.7321\n",
      "Epoch 9/100\n",
      "7/7 [==============================] - 0s 500us/step - loss: 0.8162 - accuracy: 0.7500\n",
      "Epoch 10/100\n",
      "7/7 [==============================] - 0s 667us/step - loss: 0.7846 - accuracy: 0.7589\n",
      "Epoch 11/100\n",
      "7/7 [==============================] - 0s 667us/step - loss: 0.7543 - accuracy: 0.7589\n",
      "Epoch 12/100\n",
      "7/7 [==============================] - 0s 500us/step - loss: 0.7266 - accuracy: 0.7768\n",
      "Epoch 13/100\n",
      "7/7 [==============================] - 0s 667us/step - loss: 0.6995 - accuracy: 0.8036\n",
      "Epoch 14/100\n",
      "7/7 [==============================] - 0s 667us/step - loss: 0.6743 - accuracy: 0.8214\n",
      "Epoch 15/100\n",
      "7/7 [==============================] - 0s 667us/step - loss: 0.6505 - accuracy: 0.8393\n",
      "Epoch 16/100\n",
      "7/7 [==============================] - 0s 667us/step - loss: 0.6281 - accuracy: 0.8482\n",
      "Epoch 17/100\n",
      "7/7 [==============================] - 0s 667us/step - loss: 0.6072 - accuracy: 0.8571\n",
      "Epoch 18/100\n",
      "7/7 [==============================] - 0s 833us/step - loss: 0.5875 - accuracy: 0.8661\n",
      "Epoch 19/100\n",
      "7/7 [==============================] - 0s 666us/step - loss: 0.5687 - accuracy: 0.8661\n",
      "Epoch 20/100\n",
      "7/7 [==============================] - 0s 666us/step - loss: 0.5511 - accuracy: 0.8750\n",
      "Epoch 21/100\n",
      "7/7 [==============================] - 0s 667us/step - loss: 0.5349 - accuracy: 0.8839\n",
      "Epoch 22/100\n",
      "7/7 [==============================] - 0s 667us/step - loss: 0.5189 - accuracy: 0.8839\n",
      "Epoch 23/100\n",
      "7/7 [==============================] - 0s 833us/step - loss: 0.5045 - accuracy: 0.8839\n",
      "Epoch 24/100\n",
      "7/7 [==============================] - 0s 667us/step - loss: 0.4906 - accuracy: 0.8839\n",
      "Epoch 25/100\n",
      "7/7 [==============================] - 0s 667us/step - loss: 0.4766 - accuracy: 0.8929\n",
      "Epoch 26/100\n",
      "7/7 [==============================] - 0s 667us/step - loss: 0.4644 - accuracy: 0.8839\n",
      "Epoch 27/100\n",
      "7/7 [==============================] - 0s 667us/step - loss: 0.4521 - accuracy: 0.8929\n",
      "Epoch 28/100\n",
      "7/7 [==============================] - 0s 666us/step - loss: 0.4410 - accuracy: 0.8929\n",
      "Epoch 29/100\n",
      "7/7 [==============================] - 0s 833us/step - loss: 0.4301 - accuracy: 0.8929\n",
      "Epoch 30/100\n",
      "7/7 [==============================] - 0s 667us/step - loss: 0.4202 - accuracy: 0.8929\n",
      "Epoch 31/100\n",
      "7/7 [==============================] - 0s 667us/step - loss: 0.4107 - accuracy: 0.8929\n",
      "Epoch 32/100\n",
      "7/7 [==============================] - 0s 667us/step - loss: 0.4015 - accuracy: 0.8929\n",
      "Epoch 33/100\n",
      "7/7 [==============================] - 0s 666us/step - loss: 0.3924 - accuracy: 0.8929\n",
      "Epoch 34/100\n",
      "7/7 [==============================] - 0s 667us/step - loss: 0.3846 - accuracy: 0.8929\n",
      "Epoch 35/100\n",
      "7/7 [==============================] - 0s 667us/step - loss: 0.3764 - accuracy: 0.9018\n",
      "Epoch 36/100\n",
      "7/7 [==============================] - 0s 500us/step - loss: 0.3690 - accuracy: 0.9018\n",
      "Epoch 37/100\n",
      "7/7 [==============================] - 0s 667us/step - loss: 0.3613 - accuracy: 0.9018\n",
      "Epoch 38/100\n",
      "7/7 [==============================] - 0s 667us/step - loss: 0.3545 - accuracy: 0.9107\n",
      "Epoch 39/100\n",
      "7/7 [==============================] - 0s 667us/step - loss: 0.3476 - accuracy: 0.9107\n",
      "Epoch 40/100\n",
      "7/7 [==============================] - 0s 667us/step - loss: 0.3415 - accuracy: 0.9107\n",
      "Epoch 41/100\n",
      "7/7 [==============================] - 0s 833us/step - loss: 0.3354 - accuracy: 0.9107\n",
      "Epoch 42/100\n",
      "7/7 [==============================] - 0s 667us/step - loss: 0.3293 - accuracy: 0.9107\n",
      "Epoch 43/100\n",
      "7/7 [==============================] - 0s 667us/step - loss: 0.3238 - accuracy: 0.9107\n",
      "Epoch 44/100\n",
      "7/7 [==============================] - 0s 666us/step - loss: 0.3185 - accuracy: 0.9196\n",
      "Epoch 45/100\n",
      "7/7 [==============================] - 0s 666us/step - loss: 0.3136 - accuracy: 0.9196\n",
      "Epoch 46/100\n",
      "7/7 [==============================] - 0s 499us/step - loss: 0.3088 - accuracy: 0.9107\n",
      "Epoch 47/100\n",
      "7/7 [==============================] - 0s 667us/step - loss: 0.3038 - accuracy: 0.9286\n",
      "Epoch 48/100\n",
      "7/7 [==============================] - 0s 666us/step - loss: 0.2990 - accuracy: 0.9196\n",
      "Epoch 49/100\n",
      "7/7 [==============================] - 0s 667us/step - loss: 0.2942 - accuracy: 0.9196\n",
      "Epoch 50/100\n",
      "7/7 [==============================] - 0s 833us/step - loss: 0.2902 - accuracy: 0.9286\n",
      "Epoch 51/100\n",
      "7/7 [==============================] - 0s 500us/step - loss: 0.2861 - accuracy: 0.9196\n",
      "Epoch 52/100\n",
      "7/7 [==============================] - 0s 667us/step - loss: 0.2821 - accuracy: 0.9286\n",
      "Epoch 53/100\n",
      "7/7 [==============================] - 0s 666us/step - loss: 0.2781 - accuracy: 0.9286\n",
      "Epoch 54/100\n",
      "7/7 [==============================] - 0s 500us/step - loss: 0.2743 - accuracy: 0.9375\n",
      "Epoch 55/100\n",
      "7/7 [==============================] - 0s 667us/step - loss: 0.2708 - accuracy: 0.9375\n",
      "Epoch 56/100\n",
      "7/7 [==============================] - 0s 666us/step - loss: 0.2671 - accuracy: 0.9375\n",
      "Epoch 57/100\n",
      "7/7 [==============================] - 0s 667us/step - loss: 0.2637 - accuracy: 0.9375\n",
      "Epoch 58/100\n",
      "7/7 [==============================] - 0s 667us/step - loss: 0.2607 - accuracy: 0.9286\n",
      "Epoch 59/100\n",
      "7/7 [==============================] - 0s 666us/step - loss: 0.2569 - accuracy: 0.9286\n",
      "Epoch 60/100\n",
      "7/7 [==============================] - 0s 667us/step - loss: 0.2541 - accuracy: 0.9375\n",
      "Epoch 61/100\n",
      "7/7 [==============================] - 0s 667us/step - loss: 0.2508 - accuracy: 0.9286\n",
      "Epoch 62/100\n",
      "7/7 [==============================] - 0s 667us/step - loss: 0.2482 - accuracy: 0.9375\n",
      "Epoch 63/100\n",
      "7/7 [==============================] - 0s 666us/step - loss: 0.2450 - accuracy: 0.9286\n",
      "Epoch 64/100\n",
      "7/7 [==============================] - 0s 500us/step - loss: 0.2423 - accuracy: 0.9286\n",
      "Epoch 65/100\n",
      "7/7 [==============================] - 0s 667us/step - loss: 0.2397 - accuracy: 0.9286\n",
      "Epoch 66/100\n",
      "7/7 [==============================] - 0s 666us/step - loss: 0.2373 - accuracy: 0.9286\n",
      "Epoch 67/100\n",
      "7/7 [==============================] - 0s 666us/step - loss: 0.2343 - accuracy: 0.9286\n",
      "Epoch 68/100\n",
      "7/7 [==============================] - 0s 833us/step - loss: 0.2322 - accuracy: 0.9286\n",
      "Epoch 69/100\n",
      "7/7 [==============================] - 0s 666us/step - loss: 0.2291 - accuracy: 0.9286\n",
      "Epoch 70/100\n",
      "7/7 [==============================] - 0s 667us/step - loss: 0.2269 - accuracy: 0.9286\n",
      "Epoch 71/100\n",
      "7/7 [==============================] - 0s 666us/step - loss: 0.2247 - accuracy: 0.9286\n",
      "Epoch 72/100\n",
      "7/7 [==============================] - 0s 666us/step - loss: 0.2221 - accuracy: 0.9196\n",
      "Epoch 73/100\n",
      "7/7 [==============================] - 0s 666us/step - loss: 0.2198 - accuracy: 0.9286\n",
      "Epoch 74/100\n",
      "7/7 [==============================] - 0s 500us/step - loss: 0.2172 - accuracy: 0.9375\n",
      "Epoch 75/100\n",
      "7/7 [==============================] - 0s 499us/step - loss: 0.2152 - accuracy: 0.9375\n",
      "Epoch 76/100\n",
      "7/7 [==============================] - 0s 667us/step - loss: 0.2142 - accuracy: 0.9286\n",
      "Epoch 77/100\n",
      "7/7 [==============================] - 0s 667us/step - loss: 0.2110 - accuracy: 0.9375\n",
      "Epoch 78/100\n",
      "7/7 [==============================] - 0s 666us/step - loss: 0.2089 - accuracy: 0.9375\n",
      "Epoch 79/100\n",
      "7/7 [==============================] - 0s 667us/step - loss: 0.2069 - accuracy: 0.9375\n",
      "Epoch 80/100\n",
      "7/7 [==============================] - 0s 667us/step - loss: 0.2048 - accuracy: 0.9286\n",
      "Epoch 81/100\n",
      "7/7 [==============================] - 0s 667us/step - loss: 0.2031 - accuracy: 0.9286\n",
      "Epoch 82/100\n",
      "7/7 [==============================] - 0s 666us/step - loss: 0.2009 - accuracy: 0.9375\n",
      "Epoch 83/100\n",
      "7/7 [==============================] - 0s 666us/step - loss: 0.1989 - accuracy: 0.9375\n",
      "Epoch 84/100\n",
      "7/7 [==============================] - 0s 666us/step - loss: 0.1968 - accuracy: 0.9286\n",
      "Epoch 85/100\n",
      "7/7 [==============================] - 0s 667us/step - loss: 0.1950 - accuracy: 0.9286\n",
      "Epoch 86/100\n",
      "7/7 [==============================] - 0s 667us/step - loss: 0.1932 - accuracy: 0.9286\n",
      "Epoch 87/100\n",
      "7/7 [==============================] - 0s 667us/step - loss: 0.1913 - accuracy: 0.9286\n",
      "Epoch 88/100\n",
      "7/7 [==============================] - 0s 1ms/step - loss: 0.1894 - accuracy: 0.9375\n",
      "Epoch 89/100\n",
      "7/7 [==============================] - 0s 667us/step - loss: 0.1876 - accuracy: 0.9375\n",
      "Epoch 90/100\n",
      "7/7 [==============================] - 0s 834us/step - loss: 0.1862 - accuracy: 0.9464\n",
      "Epoch 91/100\n",
      "7/7 [==============================] - 0s 1ms/step - loss: 0.1849 - accuracy: 0.9464\n",
      "Epoch 92/100\n",
      "7/7 [==============================] - 0s 1ms/step - loss: 0.1830 - accuracy: 0.9554\n",
      "Epoch 93/100\n",
      "7/7 [==============================] - 0s 833us/step - loss: 0.1816 - accuracy: 0.9464\n",
      "Epoch 94/100\n",
      "7/7 [==============================] - 0s 999us/step - loss: 0.1793 - accuracy: 0.9464\n",
      "Epoch 95/100\n",
      "7/7 [==============================] - 0s 1000us/step - loss: 0.1777 - accuracy: 0.9464\n",
      "Epoch 96/100\n",
      "7/7 [==============================] - 0s 666us/step - loss: 0.1760 - accuracy: 0.9464\n",
      "Epoch 97/100\n",
      "7/7 [==============================] - 0s 834us/step - loss: 0.1750 - accuracy: 0.9464\n",
      "Epoch 98/100\n",
      "7/7 [==============================] - 0s 667us/step - loss: 0.1733 - accuracy: 0.9464\n",
      "Epoch 99/100\n",
      "7/7 [==============================] - 0s 833us/step - loss: 0.1719 - accuracy: 0.9464\n",
      "Epoch 100/100\n",
      "7/7 [==============================] - 0s 667us/step - loss: 0.1701 - accuracy: 0.9464\n"
     ]
    },
    {
     "data": {
      "text/plain": [
       "<keras.callbacks.History at 0x2e6a7596490>"
      ]
     },
     "execution_count": 26,
     "metadata": {},
     "output_type": "execute_result"
    }
   ],
   "source": [
    "model2.fit(X_train, y_train, epochs=100, batch_size=16)"
   ]
  },
  {
   "cell_type": "code",
   "execution_count": 27,
   "metadata": {},
   "outputs": [
    {
     "name": "stdout",
     "output_type": "stream",
     "text": [
      "Evaluate on test data\n",
      "3/3 [==============================] - 0s 1ms/step - loss: 0.2472 - accuracy: 0.9211\n",
      "test loss, test acc: [0.24715904891490936, 0.9210526347160339]\n"
     ]
    }
   ],
   "source": [
    "print(\"Evaluate on test data\")\n",
    "results2 = model2.evaluate(X_test, y_test, batch_size=16)\n",
    "print(\"test loss, test acc:\", results2)"
   ]
  },
  {
   "cell_type": "markdown",
   "metadata": {},
   "source": [
    "At first, I run a model with arbitraryly chosen node numbers for the two hidden layers (which is 8). After running GridSearchCV, I find that nodes=64 has the best effect. So, I change the nodes of both hidden layer from 8 to 64.\n",
    "\n",
    "Comparing the two models, the 8-node model reached a training accuracy of 0.9211, and the 64-node model reached a same training accuray of 0.9211. \n",
    "\n",
    "For the test set, the test loss for 8-node model was 0.245, and the accuracy was 0.921. For the 64-node model, the test loss was 0.247, and the test accuracy was 0.921, which is the same as 8-node model. \n",
    "\n",
    "From the results, we can tell that although the two model has roughly the same predictive strength, the 64-node model is less efficiency than 8-node model in that 64-node model has more loss.\n",
    "\n",
    "Therefore, I think the 8-node model, rather than the tuned 64-node model, is better."
   ]
  }
 ],
 "metadata": {
  "interpreter": {
   "hash": "b96b0ec23799406967d3f4dd0683001034882b59242e4bd0b6916b0a0b0b8c31"
  },
  "kernelspec": {
   "display_name": "Python 3.9.7 64-bit",
   "language": "python",
   "name": "python3"
  },
  "language_info": {
   "codemirror_mode": {
    "name": "ipython",
    "version": 3
   },
   "file_extension": ".py",
   "mimetype": "text/x-python",
   "name": "python",
   "nbconvert_exporter": "python",
   "pygments_lexer": "ipython3",
   "version": "3.9.7"
  },
  "orig_nbformat": 4
 },
 "nbformat": 4,
 "nbformat_minor": 2
}
