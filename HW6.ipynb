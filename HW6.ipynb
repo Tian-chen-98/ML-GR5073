{
 "cells": [
  {
   "cell_type": "code",
   "execution_count": 39,
   "metadata": {},
   "outputs": [],
   "source": [
    "import pandas as pd\n",
    "from sklearn import *\n",
    "import numpy as np\n",
    "from sklearn.feature_extraction.text import CountVectorizer\n",
    "from sklearn.model_selection import GridSearchCV\n",
    "from sklearn.linear_model import LogisticRegression\n",
    "from sklearn.linear_model import LogisticRegressionCV\n",
    "from statistics import mean\n",
    "from sklearn.model_selection import cross_val_score\n",
    "from sklearn.feature_extraction.text import TfidfVectorizer\n",
    "from sklearn.metrics import confusion_matrix\n",
    "from sklearn.metrics import roc_auc_score\n",
    "from sklearn.metrics import f1_score\n",
    "from sklearn.model_selection import train_test_split\n"
   ]
  },
  {
   "cell_type": "markdown",
   "metadata": {},
   "source": [
    "# Part 1: Build a classification model using text data\n"
   ]
  },
  {
   "cell_type": "markdown",
   "metadata": {},
   "source": [
    "CountVectorizer()\n"
   ]
  },
  {
   "cell_type": "code",
   "execution_count": 58,
   "metadata": {},
   "outputs": [
    {
     "name": "stdout",
     "output_type": "stream",
     "text": [
      "Downloading [==============================================>  ]\n",
      "\n",
      "Data downloaded successfully.\n",
      "\n",
      "Preparing downloaded files for use...\n",
      "\n",
      "Success! Your Quick Start materials have been downloaded. \n",
      "You are now ready to run the tutorial.\n"
     ]
    }
   ],
   "source": [
    "import aimodelshare as ai\n",
    "\n",
    "(\n",
    "    X_train,\n",
    "    X_test,\n",
    "    y_train_labels,\n",
    "    y_test_labels,\n",
    "    example_data,\n",
    "    lstm_model,\n",
    "    lstm_model2,\n",
    ") = ai.import_quickstart_data(\"clickbait\")\n"
   ]
  },
  {
   "cell_type": "code",
   "execution_count": 59,
   "metadata": {},
   "outputs": [],
   "source": [
    "vec = CountVectorizer().fit(X_train)\n",
    "X_train = vec.transform(X_train)\n",
    "#vec2 = CountVectorizer().fit(X_test)\n",
    "X_test = vec.transform(X_test)\n"
   ]
  },
  {
   "cell_type": "code",
   "execution_count": 13,
   "metadata": {},
   "outputs": [
    {
     "name": "stdout",
     "output_type": "stream",
     "text": [
      "Best cross-validation score: 0.97\n",
      "Best parameters:  {'C': 10}\n"
     ]
    }
   ],
   "source": [
    "param_grid = {\"C\": [0.001, 0.01, 0.1, 1, 10, 100]}\n",
    "grid = GridSearchCV(LogisticRegression(max_iter=2000), param_grid, cv=5)\n",
    "grid.fit(X_train, y_train_labels)\n",
    "print(\"Best cross-validation score: {:.2f}\".format(grid.best_score_))\n",
    "print(\"Best parameters: \", grid.best_params_)\n"
   ]
  },
  {
   "cell_type": "code",
   "execution_count": 42,
   "metadata": {},
   "outputs": [
    {
     "data": {
      "text/plain": [
       "0.996085396897193"
      ]
     },
     "execution_count": 42,
     "metadata": {},
     "output_type": "execute_result"
    }
   ],
   "source": [
    "log = LogisticRegression(C=10, max_iter=1000, random_state=35).fit(X_train, y_train_labels)\n",
    "\n",
    "# logcv = cross_val_score(log, X_train, y_train_labels, scoring='f1', cv=10, n_jobs=-1, error_score='raise')\n",
    "logcv = cross_val_score(\n",
    "    log,\n",
    "    X_train,\n",
    "    y_train_labels,\n",
    "    scoring=\"roc_auc\",\n",
    "    cv=10,\n",
    "    n_jobs=-1,\n",
    "    error_score=\"raise\",\n",
    ")\n",
    "logcv.mean()\n"
   ]
  },
  {
   "cell_type": "code",
   "execution_count": 40,
   "metadata": {},
   "outputs": [
    {
     "name": "stdout",
     "output_type": "stream",
     "text": [
      "Training Accuracy : 0.9998398654870091\n",
      "Test set F1 score : 0.9735322772135928\n"
     ]
    }
   ],
   "source": [
    "y_pred = log.predict(X_test)\n",
    "\n",
    "\n",
    "print(\"Training Accuracy :\", log.score(X_train, y_train_labels))\n",
    "#print(\"Testing Accuracy :\", log.score(X_test, y_test_labels))\n",
    "\n",
    "# calculating the f1 score for the validation set\n",
    "print(\"Test set F1 score :\", f1_score(y_test_labels, y_pred, average=\"macro\"))\n"
   ]
  },
  {
   "cell_type": "markdown",
   "metadata": {},
   "source": [
    "TF-IDF\n"
   ]
  },
  {
   "cell_type": "code",
   "execution_count": 43,
   "metadata": {},
   "outputs": [
    {
     "name": "stdout",
     "output_type": "stream",
     "text": [
      "Downloading [==============================================>  ]\n",
      "\n",
      "Data downloaded successfully.\n",
      "\n",
      "Preparing downloaded files for use...\n",
      "\n",
      "Success! Your Quick Start materials have been downloaded. \n",
      "You are now ready to run the tutorial.\n"
     ]
    }
   ],
   "source": [
    "import aimodelshare as ai\n",
    "\n",
    "(\n",
    "    X_train,\n",
    "    X_test,\n",
    "    y_train_labels,\n",
    "    y_test_labels,\n",
    "    example_data,\n",
    "    lstm_model,\n",
    "    lstm_model2,\n",
    ") = ai.import_quickstart_data(\"clickbait\")\n"
   ]
  },
  {
   "cell_type": "code",
   "execution_count": 44,
   "metadata": {},
   "outputs": [],
   "source": [
    "tfidf = TfidfVectorizer(min_df=5, norm=None).fit(X_train)\n",
    "X_train = tfidf.transform(X_train)\n",
    "X_test = tfidf.transform(X_test)\n"
   ]
  },
  {
   "cell_type": "code",
   "execution_count": 46,
   "metadata": {},
   "outputs": [
    {
     "data": {
      "text/plain": [
       "0.9927761120826164"
      ]
     },
     "execution_count": 46,
     "metadata": {},
     "output_type": "execute_result"
    }
   ],
   "source": [
    "log = LogisticRegression(C=10, max_iter=1000, random_state=35).fit(X_train, y_train_labels)\n",
    "\n",
    "# logcv = cross_val_score(log, X_train, y_train_labels, scoring='f1', cv=10, n_jobs=-1, error_score='raise')\n",
    "logcv = cross_val_score(\n",
    "    log,\n",
    "    X_train,\n",
    "    y_train_labels,\n",
    "    scoring=\"roc_auc\",\n",
    "    cv=10,\n",
    "    n_jobs=-1,\n",
    "    error_score=\"raise\",\n",
    ")\n",
    "logcv.mean()\n"
   ]
  },
  {
   "cell_type": "code",
   "execution_count": 48,
   "metadata": {},
   "outputs": [
    {
     "name": "stdout",
     "output_type": "stream",
     "text": [
      "Training Accuracy : 0.9999599663717522\n",
      "Test set F1 score : 0.9642478669084689\n"
     ]
    }
   ],
   "source": [
    "y_pred = log.predict(X_test)\n",
    "\n",
    "\n",
    "print(\"Training Accuracy :\", log.score(X_train, y_train_labels))\n",
    "#print(\"Testing Accuracy :\", log.score(X_test, y_test_labels))\n",
    "\n",
    "# calculating the f1 score for the validation set\n",
    "print(\"Test set F1 score :\", f1_score(y_test_labels, y_pred, average=\"macro\"))\n"
   ]
  },
  {
   "cell_type": "markdown",
   "metadata": {},
   "source": [
    "Bigram"
   ]
  },
  {
   "cell_type": "code",
   "execution_count": 54,
   "metadata": {},
   "outputs": [
    {
     "name": "stdout",
     "output_type": "stream",
     "text": [
      "Downloading [==============================================>  ]\n",
      "\n",
      "Data downloaded successfully.\n",
      "\n",
      "Preparing downloaded files for use...\n",
      "\n",
      "Success! Your Quick Start materials have been downloaded. \n",
      "You are now ready to run the tutorial.\n"
     ]
    }
   ],
   "source": [
    "import aimodelshare as ai\n",
    "\n",
    "(\n",
    "    X_train,\n",
    "    X_test,\n",
    "    y_train_labels,\n",
    "    y_test_labels,\n",
    "    example_data,\n",
    "    lstm_model,\n",
    "    lstm_model2,\n",
    ") = ai.import_quickstart_data(\"clickbait\")\n"
   ]
  },
  {
   "cell_type": "code",
   "execution_count": 55,
   "metadata": {},
   "outputs": [],
   "source": [
    "vec = CountVectorizer(ngram_range=(2,2)).fit(X_train)\n",
    "X_train = vec.transform(X_train)\n",
    "#vec2 = CountVectorizer().fit(X_test)\n",
    "X_test = vec.transform(X_test)\n"
   ]
  },
  {
   "cell_type": "code",
   "execution_count": 56,
   "metadata": {},
   "outputs": [
    {
     "data": {
      "text/plain": [
       "0.9870803681050493"
      ]
     },
     "execution_count": 56,
     "metadata": {},
     "output_type": "execute_result"
    }
   ],
   "source": [
    "log = LogisticRegression(C=10, max_iter=1000, random_state=35).fit(X_train, y_train_labels)\n",
    "\n",
    "# logcv = cross_val_score(log, X_train, y_train_labels, scoring='f1', cv=10, n_jobs=-1, error_score='raise')\n",
    "logcv = cross_val_score(\n",
    "    log,\n",
    "    X_train,\n",
    "    y_train_labels,\n",
    "    scoring=\"roc_auc\",\n",
    "    cv=10,\n",
    "    n_jobs=-1,\n",
    "    error_score=\"raise\",\n",
    ")\n",
    "logcv.mean()\n"
   ]
  },
  {
   "cell_type": "code",
   "execution_count": 57,
   "metadata": {},
   "outputs": [
    {
     "name": "stdout",
     "output_type": "stream",
     "text": [
      "Training Accuracy : 1.0\n",
      "Test set F1 score : 0.9265121984228963\n"
     ]
    }
   ],
   "source": [
    "y_pred = log.predict(X_test)\n",
    "\n",
    "\n",
    "print(\"Training Accuracy :\", log.score(X_train, y_train_labels))\n",
    "#print(\"Testing Accuracy :\", log.score(X_test, y_test_labels))\n",
    "\n",
    "# calculating the f1 score for the validation set\n",
    "print(\"Test set F1 score :\", f1_score(y_test_labels, y_pred, average=\"macro\"))\n"
   ]
  }
 ],
 "metadata": {
  "interpreter": {
   "hash": "b96b0ec23799406967d3f4dd0683001034882b59242e4bd0b6916b0a0b0b8c31"
  },
  "kernelspec": {
   "display_name": "Python 3.9.7 64-bit",
   "language": "python",
   "name": "python3"
  },
  "language_info": {
   "codemirror_mode": {
    "name": "ipython",
    "version": 3
   },
   "file_extension": ".py",
   "mimetype": "text/x-python",
   "name": "python",
   "nbconvert_exporter": "python",
   "pygments_lexer": "ipython3",
   "version": "3.9.7"
  },
  "orig_nbformat": 4
 },
 "nbformat": 4,
 "nbformat_minor": 2
}
